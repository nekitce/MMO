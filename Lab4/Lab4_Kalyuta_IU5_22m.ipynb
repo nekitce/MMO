{
  "nbformat": 4,
  "nbformat_minor": 0,
  "metadata": {
    "colab": {
      "provenance": []
    },
    "kernelspec": {
      "name": "python3",
      "display_name": "Python 3"
    },
    "language_info": {
      "name": "python"
    }
  },
  "cells": [
    {
      "cell_type": "markdown",
      "source": [
        "![image.png](data:image/png;base64,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)"
      ],
      "metadata": {
        "id": "EEEVttOa7gVD"
      }
    },
    {
      "cell_type": "markdown",
      "source": [
        "###**Цель лабораторной работы:**\n",
        "Ознакомление с базовыми методами обучения с подкреплением.\n",
        "\n",
        "###**Задание:**\n",
        "<ol>\n",
        "<li>На основе рассмотренного на лекции примера реализуйте алгоритм Policy Iteration для любой среды обучения с подкреплением (кроме рассмотренной на лекции среды Toy Text / Frozen Lake) из библиотеки Gym (или аналогичной библиотеки).\n",
        "</li>"
      ],
      "metadata": {
        "id": "JY8rWo5_h94a"
      }
    },
    {
      "cell_type": "markdown",
      "source": [
        "###**Ход выполнения задания**\n",
        "\n",
        "---\n",
        "\n"
      ],
      "metadata": {
        "id": "9ZP51w_3kV6B"
      }
    },
    {
      "cell_type": "markdown",
      "source": [
        "## Установка зависимостей"
      ],
      "metadata": {
        "id": "NoyEK12xCnGh"
      }
    },
    {
      "cell_type": "markdown",
      "source": [
        "Установка необходимых библиотек и зависимостей для работы с Atari-играми"
      ],
      "metadata": {
        "id": "XkNBY-xr4-wZ"
      }
    },
    {
      "cell_type": "code",
      "source": [
        "#remove \" > /dev/null 2>&1\" to see what is going on under the hood\n",
        "!apt-get update > /dev/null 2>&1\n",
        "!pip install gym pyvirtualdisplay > /dev/null 2>&1\n",
        "!apt-get install -y xvfb python-opengl ffmpeg > /dev/null 2>&1\n",
        "!apt-get install cmake > /dev/null 2>&1\n",
        "!pip install --upgrade setuptools 2>&1\n",
        "!pip install ez_setup > /dev/null 2>&1\n",
        "\n",
        "!apt-get update > /dev/null 2>&1\n",
        "!apt-get install cmake > /dev/null 2>&1\n",
        "!pip install --upgrade setuptools 2>&1\n",
        "!pip install ez_setup > /dev/null 2>&1\n",
        "\n",
        "!pip install swig==4.1.1\n",
        "!pip install Box2D==2.3.2\n",
        "!pip install box2d-kengz==2.3.3\n",
        "!pip install pygame==2.2.0\n",
        "!pip install ale_py==0.8.1\n",
        "!pip install pyglet==1.5.11\n",
        "\n",
        "\n",
        "!pip install -U colabgymrender\n",
        "!pip install imageio==2.4.1\n",
        "!pip install --upgrade AutoROM\n",
        "!AutoROM --accept-license\n",
        "!pip install gymnasium[atari]==0.28.1\n",
        "\n",
        "!wget http://www.atarimania.com/roms/Roms.rar\n",
        "!unrar x -o+ /content/Roms.rar >/dev/nul\n",
        "!python -m atari_py.import_roms /content/ROMS >/dev/nul\n",
        "\n",
        "!pip install pyvirtualdisplay > /dev/null 2>&1\n",
        "\n",
        "!pip install --upgrade gym"
      ],
      "metadata": {
        "colab": {
          "base_uri": "https://localhost:8080/",
          "height": 1000
        },
        "id": "mv-z-dAjHs5k",
        "outputId": "b25ba161-1e26-4f1e-ad58-03c201680418"
      },
      "execution_count": 1,
      "outputs": [
        {
          "output_type": "stream",
          "name": "stdout",
          "text": [
            "Requirement already satisfied: setuptools in /usr/local/lib/python3.10/dist-packages (67.7.2)\n",
            "Collecting setuptools\n",
            "  Using cached setuptools-70.0.0-py3-none-any.whl (863 kB)\n",
            "Installing collected packages: setuptools\n",
            "  Attempting uninstall: setuptools\n",
            "    Found existing installation: setuptools 67.7.2\n",
            "    Uninstalling setuptools-67.7.2:\n",
            "      Successfully uninstalled setuptools-67.7.2\n",
            "\u001b[31mERROR: pip's dependency resolver does not currently take into account all the packages that are installed. This behaviour is the source of the following dependency conflicts.\n",
            "ipython 7.34.0 requires jedi>=0.16, which is not installed.\u001b[0m\u001b[31m\n",
            "\u001b[0mSuccessfully installed setuptools-70.0.0\n"
          ]
        },
        {
          "output_type": "display_data",
          "data": {
            "application/vnd.colab-display-data+json": {
              "pip_warning": {
                "packages": [
                  "_distutils_hack",
                  "pkg_resources",
                  "setuptools"
                ]
              },
              "id": "a4a528397dea42fca6862900e7d33744"
            }
          },
          "metadata": {}
        },
        {
          "output_type": "stream",
          "name": "stdout",
          "text": [
            "Requirement already satisfied: setuptools in /usr/local/lib/python3.10/dist-packages (70.0.0)\n",
            "Collecting swig==4.1.1\n",
            "  Downloading swig-4.1.1-py2.py3-none-manylinux_2_5_x86_64.manylinux1_x86_64.whl (1.8 MB)\n",
            "\u001b[2K     \u001b[90m━━━━━━━━━━━━━━━━━━━━━━━━━━━━━━━━━━━━━━━━\u001b[0m \u001b[32m1.8/1.8 MB\u001b[0m \u001b[31m6.9 MB/s\u001b[0m eta \u001b[36m0:00:00\u001b[0m\n",
            "\u001b[?25hInstalling collected packages: swig\n",
            "Successfully installed swig-4.1.1\n",
            "Collecting Box2D==2.3.2\n",
            "  Downloading Box2D-2.3.2.tar.gz (427 kB)\n",
            "\u001b[2K     \u001b[90m━━━━━━━━━━━━━━━━━━━━━━━━━━━━━━━━━━━━━━━━\u001b[0m \u001b[32m427.9/427.9 kB\u001b[0m \u001b[31m2.5 MB/s\u001b[0m eta \u001b[36m0:00:00\u001b[0m\n",
            "\u001b[?25h  Preparing metadata (setup.py) ... \u001b[?25l\u001b[?25hdone\n",
            "Building wheels for collected packages: Box2D\n",
            "  Building wheel for Box2D (setup.py) ... \u001b[?25l\u001b[?25hdone\n",
            "  Created wheel for Box2D: filename=Box2D-2.3.2-cp310-cp310-linux_x86_64.whl size=2391312 sha256=84654540f0219bc797d13bf0b9449a8c828151054323b57ad975f8ec403e7622\n",
            "  Stored in directory: /root/.cache/pip/wheels/eb/cb/be/e663f3ce9aba6580611c0febaf7cd3cf7603f87047de2a52f9\n",
            "Successfully built Box2D\n",
            "Installing collected packages: Box2D\n",
            "Successfully installed Box2D-2.3.2\n",
            "Collecting box2d-kengz==2.3.3\n",
            "  Downloading Box2D-kengz-2.3.3.tar.gz (425 kB)\n",
            "\u001b[2K     \u001b[90m━━━━━━━━━━━━━━━━━━━━━━━━━━━━━━━━━━━━━━━━\u001b[0m \u001b[32m425.4/425.4 kB\u001b[0m \u001b[31m2.9 MB/s\u001b[0m eta \u001b[36m0:00:00\u001b[0m\n",
            "\u001b[?25h  Preparing metadata (setup.py) ... \u001b[?25l\u001b[?25hdone\n",
            "Building wheels for collected packages: box2d-kengz\n",
            "  Building wheel for box2d-kengz (setup.py) ... \u001b[?25l\u001b[?25hdone\n",
            "  Created wheel for box2d-kengz: filename=Box2D_kengz-2.3.3-cp310-cp310-linux_x86_64.whl size=2391302 sha256=15810e34cc54bde77d154d3f7c13e3b860164e65b580c62b0de2b8521db6d472\n",
            "  Stored in directory: /root/.cache/pip/wheels/ab/a3/5f/6396406aa0163da86c2a8d28304a120b55cfa98363654d853b\n",
            "Successfully built box2d-kengz\n",
            "Installing collected packages: box2d-kengz\n",
            "Successfully installed box2d-kengz-2.3.3\n",
            "Collecting pygame==2.2.0\n",
            "  Downloading pygame-2.2.0-cp310-cp310-manylinux_2_17_x86_64.manylinux2014_x86_64.whl (13.7 MB)\n",
            "\u001b[2K     \u001b[90m━━━━━━━━━━━━━━━━━━━━━━━━━━━━━━━━━━━━━━━━\u001b[0m \u001b[32m13.7/13.7 MB\u001b[0m \u001b[31m50.1 MB/s\u001b[0m eta \u001b[36m0:00:00\u001b[0m\n",
            "\u001b[?25hInstalling collected packages: pygame\n",
            "  Attempting uninstall: pygame\n",
            "    Found existing installation: pygame 2.5.2\n",
            "    Uninstalling pygame-2.5.2:\n",
            "      Successfully uninstalled pygame-2.5.2\n",
            "Successfully installed pygame-2.2.0\n",
            "Collecting ale_py==0.8.1\n",
            "  Downloading ale_py-0.8.1-cp310-cp310-manylinux_2_17_x86_64.manylinux2014_x86_64.whl (1.7 MB)\n",
            "\u001b[2K     \u001b[90m━━━━━━━━━━━━━━━━━━━━━━━━━━━━━━━━━━━━━━━━\u001b[0m \u001b[32m1.7/1.7 MB\u001b[0m \u001b[31m8.0 MB/s\u001b[0m eta \u001b[36m0:00:00\u001b[0m\n",
            "\u001b[?25hRequirement already satisfied: numpy in /usr/local/lib/python3.10/dist-packages (from ale_py==0.8.1) (1.25.2)\n",
            "Requirement already satisfied: importlib-resources in /usr/local/lib/python3.10/dist-packages (from ale_py==0.8.1) (6.4.0)\n",
            "Requirement already satisfied: typing-extensions in /usr/local/lib/python3.10/dist-packages (from ale_py==0.8.1) (4.11.0)\n",
            "Installing collected packages: ale_py\n",
            "Successfully installed ale_py-0.8.1\n",
            "Collecting pyglet==1.5.11\n",
            "  Downloading pyglet-1.5.11-py3-none-any.whl (1.1 MB)\n",
            "\u001b[2K     \u001b[90m━━━━━━━━━━━━━━━━━━━━━━━━━━━━━━━━━━━━━━━━\u001b[0m \u001b[32m1.1/1.1 MB\u001b[0m \u001b[31m3.5 MB/s\u001b[0m eta \u001b[36m0:00:00\u001b[0m\n",
            "\u001b[?25hInstalling collected packages: pyglet\n",
            "Successfully installed pyglet-1.5.11\n",
            "Collecting colabgymrender\n",
            "  Downloading colabgymrender-1.1.0.tar.gz (3.5 kB)\n",
            "  Preparing metadata (setup.py) ... \u001b[?25l\u001b[?25hdone\n",
            "Requirement already satisfied: moviepy in /usr/local/lib/python3.10/dist-packages (from colabgymrender) (1.0.3)\n",
            "Requirement already satisfied: decorator<5.0,>=4.0.2 in /usr/local/lib/python3.10/dist-packages (from moviepy->colabgymrender) (4.4.2)\n",
            "Requirement already satisfied: tqdm<5.0,>=4.11.2 in /usr/local/lib/python3.10/dist-packages (from moviepy->colabgymrender) (4.66.4)\n",
            "Requirement already satisfied: requests<3.0,>=2.8.1 in /usr/local/lib/python3.10/dist-packages (from moviepy->colabgymrender) (2.31.0)\n",
            "Requirement already satisfied: proglog<=1.0.0 in /usr/local/lib/python3.10/dist-packages (from moviepy->colabgymrender) (0.1.10)\n",
            "Requirement already satisfied: numpy>=1.17.3 in /usr/local/lib/python3.10/dist-packages (from moviepy->colabgymrender) (1.25.2)\n",
            "Requirement already satisfied: imageio<3.0,>=2.5 in /usr/local/lib/python3.10/dist-packages (from moviepy->colabgymrender) (2.31.6)\n",
            "Requirement already satisfied: imageio-ffmpeg>=0.2.0 in /usr/local/lib/python3.10/dist-packages (from moviepy->colabgymrender) (0.4.9)\n",
            "Requirement already satisfied: pillow<10.1.0,>=8.3.2 in /usr/local/lib/python3.10/dist-packages (from imageio<3.0,>=2.5->moviepy->colabgymrender) (9.4.0)\n",
            "Requirement already satisfied: setuptools in /usr/local/lib/python3.10/dist-packages (from imageio-ffmpeg>=0.2.0->moviepy->colabgymrender) (70.0.0)\n",
            "Requirement already satisfied: charset-normalizer<4,>=2 in /usr/local/lib/python3.10/dist-packages (from requests<3.0,>=2.8.1->moviepy->colabgymrender) (3.3.2)\n",
            "Requirement already satisfied: idna<4,>=2.5 in /usr/local/lib/python3.10/dist-packages (from requests<3.0,>=2.8.1->moviepy->colabgymrender) (3.7)\n",
            "Requirement already satisfied: urllib3<3,>=1.21.1 in /usr/local/lib/python3.10/dist-packages (from requests<3.0,>=2.8.1->moviepy->colabgymrender) (2.0.7)\n",
            "Requirement already satisfied: certifi>=2017.4.17 in /usr/local/lib/python3.10/dist-packages (from requests<3.0,>=2.8.1->moviepy->colabgymrender) (2024.2.2)\n",
            "Building wheels for collected packages: colabgymrender\n",
            "  Building wheel for colabgymrender (setup.py) ... \u001b[?25l\u001b[?25hdone\n",
            "  Created wheel for colabgymrender: filename=colabgymrender-1.1.0-py3-none-any.whl size=3114 sha256=5d8dff9b9b38bbb660d3bef3fb8a00ef9071b2be8bc29d663ed824b22d06457c\n",
            "  Stored in directory: /root/.cache/pip/wheels/13/62/63/7b3acfb684dd3d665d7fc1d213427b136205a222389767e295\n",
            "Successfully built colabgymrender\n",
            "Installing collected packages: colabgymrender\n",
            "Successfully installed colabgymrender-1.1.0\n",
            "Collecting imageio==2.4.1\n",
            "  Downloading imageio-2.4.1.tar.gz (3.3 MB)\n",
            "\u001b[2K     \u001b[90m━━━━━━━━━━━━━━━━━━━━━━━━━━━━━━━━━━━━━━━━\u001b[0m \u001b[32m3.3/3.3 MB\u001b[0m \u001b[31m11.1 MB/s\u001b[0m eta \u001b[36m0:00:00\u001b[0m\n",
            "\u001b[?25h  Preparing metadata (setup.py) ... \u001b[?25l\u001b[?25hdone\n",
            "Requirement already satisfied: numpy in /usr/local/lib/python3.10/dist-packages (from imageio==2.4.1) (1.25.2)\n",
            "Requirement already satisfied: pillow in /usr/local/lib/python3.10/dist-packages (from imageio==2.4.1) (9.4.0)\n",
            "Building wheels for collected packages: imageio\n",
            "  Building wheel for imageio (setup.py) ... \u001b[?25l\u001b[?25hdone\n",
            "  Created wheel for imageio: filename=imageio-2.4.1-py3-none-any.whl size=3303885 sha256=22c9c7a409dd50b18b5d72e38386501957668f03c668647a7d719c4913a85bbc\n",
            "  Stored in directory: /root/.cache/pip/wheels/96/5d/ce/bdbdb04744dac03906336eb0d01ff1e222061d3419c55c55f9\n",
            "Successfully built imageio\n",
            "Installing collected packages: imageio\n",
            "  Attempting uninstall: imageio\n",
            "    Found existing installation: imageio 2.31.6\n",
            "    Uninstalling imageio-2.31.6:\n",
            "      Successfully uninstalled imageio-2.31.6\n",
            "\u001b[31mERROR: pip's dependency resolver does not currently take into account all the packages that are installed. This behaviour is the source of the following dependency conflicts.\n",
            "moviepy 1.0.3 requires imageio<3.0,>=2.5; python_version >= \"3.4\", but you have imageio 2.4.1 which is incompatible.\u001b[0m\u001b[31m\n",
            "\u001b[0mSuccessfully installed imageio-2.4.1\n",
            "Collecting AutoROM\n",
            "  Downloading AutoROM-0.6.1-py3-none-any.whl (9.4 kB)\n",
            "Requirement already satisfied: click in /usr/local/lib/python3.10/dist-packages (from AutoROM) (8.1.7)\n",
            "Requirement already satisfied: requests in /usr/local/lib/python3.10/dist-packages (from AutoROM) (2.31.0)\n",
            "Requirement already satisfied: charset-normalizer<4,>=2 in /usr/local/lib/python3.10/dist-packages (from requests->AutoROM) (3.3.2)\n",
            "Requirement already satisfied: idna<4,>=2.5 in /usr/local/lib/python3.10/dist-packages (from requests->AutoROM) (3.7)\n",
            "Requirement already satisfied: urllib3<3,>=1.21.1 in /usr/local/lib/python3.10/dist-packages (from requests->AutoROM) (2.0.7)\n",
            "Requirement already satisfied: certifi>=2017.4.17 in /usr/local/lib/python3.10/dist-packages (from requests->AutoROM) (2024.2.2)\n",
            "Installing collected packages: AutoROM\n",
            "Successfully installed AutoROM-0.6.1\n",
            "AutoROM will download the Atari 2600 ROMs.\n",
            "They will be installed to:\n",
            "\t/usr/local/lib/python3.10/dist-packages/AutoROM/roms\n",
            "\n",
            "Existing ROMs will be overwritten.\n",
            "Installed /usr/local/lib/python3.10/dist-packages/AutoROM/roms/adventure.bin\n",
            "Installed /usr/local/lib/python3.10/dist-packages/AutoROM/roms/air_raid.bin\n",
            "Installed /usr/local/lib/python3.10/dist-packages/AutoROM/roms/alien.bin\n",
            "Installed /usr/local/lib/python3.10/dist-packages/AutoROM/roms/amidar.bin\n",
            "Installed /usr/local/lib/python3.10/dist-packages/AutoROM/roms/assault.bin\n",
            "Installed /usr/local/lib/python3.10/dist-packages/AutoROM/roms/asterix.bin\n",
            "Installed /usr/local/lib/python3.10/dist-packages/AutoROM/roms/asteroids.bin\n",
            "Installed /usr/local/lib/python3.10/dist-packages/AutoROM/roms/atlantis.bin\n",
            "Installed /usr/local/lib/python3.10/dist-packages/AutoROM/roms/atlantis2.bin\n",
            "Installed /usr/local/lib/python3.10/dist-packages/AutoROM/roms/backgammon.bin\n",
            "Installed /usr/local/lib/python3.10/dist-packages/AutoROM/roms/bank_heist.bin\n",
            "Installed /usr/local/lib/python3.10/dist-packages/AutoROM/roms/basic_math.bin\n",
            "Installed /usr/local/lib/python3.10/dist-packages/AutoROM/roms/battle_zone.bin\n",
            "Installed /usr/local/lib/python3.10/dist-packages/AutoROM/roms/beam_rider.bin\n",
            "Installed /usr/local/lib/python3.10/dist-packages/AutoROM/roms/berzerk.bin\n",
            "Installed /usr/local/lib/python3.10/dist-packages/AutoROM/roms/blackjack.bin\n",
            "Installed /usr/local/lib/python3.10/dist-packages/AutoROM/roms/bowling.bin\n",
            "Installed /usr/local/lib/python3.10/dist-packages/AutoROM/roms/boxing.bin\n",
            "Installed /usr/local/lib/python3.10/dist-packages/AutoROM/roms/breakout.bin\n",
            "Installed /usr/local/lib/python3.10/dist-packages/AutoROM/roms/carnival.bin\n",
            "Installed /usr/local/lib/python3.10/dist-packages/AutoROM/roms/casino.bin\n",
            "Installed /usr/local/lib/python3.10/dist-packages/AutoROM/roms/centipede.bin\n",
            "Installed /usr/local/lib/python3.10/dist-packages/AutoROM/roms/chopper_command.bin\n",
            "Installed /usr/local/lib/python3.10/dist-packages/AutoROM/roms/combat.bin\n",
            "Installed /usr/local/lib/python3.10/dist-packages/AutoROM/roms/crazy_climber.bin\n",
            "Installed /usr/local/lib/python3.10/dist-packages/AutoROM/roms/crossbow.bin\n",
            "Installed /usr/local/lib/python3.10/dist-packages/AutoROM/roms/darkchambers.bin\n",
            "Installed /usr/local/lib/python3.10/dist-packages/AutoROM/roms/defender.bin\n",
            "Installed /usr/local/lib/python3.10/dist-packages/AutoROM/roms/demon_attack.bin\n",
            "Installed /usr/local/lib/python3.10/dist-packages/AutoROM/roms/donkey_kong.bin\n",
            "Installed /usr/local/lib/python3.10/dist-packages/AutoROM/roms/double_dunk.bin\n",
            "Installed /usr/local/lib/python3.10/dist-packages/AutoROM/roms/earthworld.bin\n",
            "Installed /usr/local/lib/python3.10/dist-packages/AutoROM/roms/elevator_action.bin\n",
            "Installed /usr/local/lib/python3.10/dist-packages/AutoROM/roms/enduro.bin\n",
            "Installed /usr/local/lib/python3.10/dist-packages/AutoROM/roms/entombed.bin\n",
            "Installed /usr/local/lib/python3.10/dist-packages/AutoROM/roms/et.bin\n",
            "Installed /usr/local/lib/python3.10/dist-packages/AutoROM/roms/fishing_derby.bin\n",
            "Installed /usr/local/lib/python3.10/dist-packages/AutoROM/roms/flag_capture.bin\n",
            "Installed /usr/local/lib/python3.10/dist-packages/AutoROM/roms/freeway.bin\n",
            "Installed /usr/local/lib/python3.10/dist-packages/AutoROM/roms/frogger.bin\n",
            "Installed /usr/local/lib/python3.10/dist-packages/AutoROM/roms/frostbite.bin\n",
            "Installed /usr/local/lib/python3.10/dist-packages/AutoROM/roms/galaxian.bin\n",
            "Installed /usr/local/lib/python3.10/dist-packages/AutoROM/roms/gopher.bin\n",
            "Installed /usr/local/lib/python3.10/dist-packages/AutoROM/roms/gravitar.bin\n",
            "Installed /usr/local/lib/python3.10/dist-packages/AutoROM/roms/hangman.bin\n",
            "Installed /usr/local/lib/python3.10/dist-packages/AutoROM/roms/haunted_house.bin\n",
            "Installed /usr/local/lib/python3.10/dist-packages/AutoROM/roms/hero.bin\n",
            "Installed /usr/local/lib/python3.10/dist-packages/AutoROM/roms/human_cannonball.bin\n",
            "Installed /usr/local/lib/python3.10/dist-packages/AutoROM/roms/ice_hockey.bin\n",
            "Installed /usr/local/lib/python3.10/dist-packages/AutoROM/roms/jamesbond.bin\n",
            "Installed /usr/local/lib/python3.10/dist-packages/AutoROM/roms/journey_escape.bin\n",
            "Installed /usr/local/lib/python3.10/dist-packages/AutoROM/roms/joust.bin\n",
            "Installed /usr/local/lib/python3.10/dist-packages/AutoROM/roms/kaboom.bin\n",
            "Installed /usr/local/lib/python3.10/dist-packages/AutoROM/roms/kangaroo.bin\n",
            "Installed /usr/local/lib/python3.10/dist-packages/AutoROM/roms/keystone_kapers.bin\n",
            "Installed /usr/local/lib/python3.10/dist-packages/AutoROM/roms/king_kong.bin\n",
            "Installed /usr/local/lib/python3.10/dist-packages/AutoROM/roms/klax.bin\n",
            "Installed /usr/local/lib/python3.10/dist-packages/AutoROM/roms/koolaid.bin\n",
            "Installed /usr/local/lib/python3.10/dist-packages/AutoROM/roms/krull.bin\n",
            "Installed /usr/local/lib/python3.10/dist-packages/AutoROM/roms/kung_fu_master.bin\n",
            "Installed /usr/local/lib/python3.10/dist-packages/AutoROM/roms/laser_gates.bin\n",
            "Installed /usr/local/lib/python3.10/dist-packages/AutoROM/roms/lost_luggage.bin\n",
            "Installed /usr/local/lib/python3.10/dist-packages/AutoROM/roms/mario_bros.bin\n",
            "Installed /usr/local/lib/python3.10/dist-packages/AutoROM/roms/maze_craze.bin\n",
            "Installed /usr/local/lib/python3.10/dist-packages/AutoROM/roms/miniature_golf.bin\n",
            "Installed /usr/local/lib/python3.10/dist-packages/AutoROM/roms/montezuma_revenge.bin\n",
            "Installed /usr/local/lib/python3.10/dist-packages/AutoROM/roms/mr_do.bin\n",
            "Installed /usr/local/lib/python3.10/dist-packages/AutoROM/roms/ms_pacman.bin\n",
            "Installed /usr/local/lib/python3.10/dist-packages/AutoROM/roms/name_this_game.bin\n",
            "Installed /usr/local/lib/python3.10/dist-packages/AutoROM/roms/othello.bin\n",
            "Installed /usr/local/lib/python3.10/dist-packages/AutoROM/roms/pacman.bin\n",
            "Installed /usr/local/lib/python3.10/dist-packages/AutoROM/roms/phoenix.bin\n",
            "Installed /usr/local/lib/python3.10/dist-packages/AutoROM/roms/pitfall.bin\n",
            "Installed /usr/local/lib/python3.10/dist-packages/AutoROM/roms/pitfall2.bin\n",
            "Installed /usr/local/lib/python3.10/dist-packages/AutoROM/roms/pong.bin\n",
            "Installed /usr/local/lib/python3.10/dist-packages/AutoROM/roms/pooyan.bin\n",
            "Installed /usr/local/lib/python3.10/dist-packages/AutoROM/roms/private_eye.bin\n",
            "Installed /usr/local/lib/python3.10/dist-packages/AutoROM/roms/qbert.bin\n",
            "Installed /usr/local/lib/python3.10/dist-packages/AutoROM/roms/riverraid.bin\n",
            "Installed /usr/local/lib/python3.10/dist-packages/AutoROM/roms/road_runner.bin\n",
            "Installed /usr/local/lib/python3.10/dist-packages/AutoROM/roms/robotank.bin\n",
            "Installed /usr/local/lib/python3.10/dist-packages/AutoROM/roms/seaquest.bin\n",
            "Installed /usr/local/lib/python3.10/dist-packages/AutoROM/roms/sir_lancelot.bin\n",
            "Installed /usr/local/lib/python3.10/dist-packages/AutoROM/roms/skiing.bin\n",
            "Installed /usr/local/lib/python3.10/dist-packages/AutoROM/roms/solaris.bin\n",
            "Installed /usr/local/lib/python3.10/dist-packages/AutoROM/roms/space_invaders.bin\n",
            "Installed /usr/local/lib/python3.10/dist-packages/AutoROM/roms/space_war.bin\n",
            "Installed /usr/local/lib/python3.10/dist-packages/AutoROM/roms/star_gunner.bin\n",
            "Installed /usr/local/lib/python3.10/dist-packages/AutoROM/roms/superman.bin\n",
            "Installed /usr/local/lib/python3.10/dist-packages/AutoROM/roms/surround.bin\n",
            "Installed /usr/local/lib/python3.10/dist-packages/AutoROM/roms/tennis.bin\n",
            "Installed /usr/local/lib/python3.10/dist-packages/AutoROM/roms/tetris.bin\n",
            "Installed /usr/local/lib/python3.10/dist-packages/AutoROM/roms/tic_tac_toe_3d.bin\n",
            "Installed /usr/local/lib/python3.10/dist-packages/AutoROM/roms/time_pilot.bin\n",
            "Installed /usr/local/lib/python3.10/dist-packages/AutoROM/roms/trondead.bin\n",
            "Installed /usr/local/lib/python3.10/dist-packages/AutoROM/roms/turmoil.bin\n",
            "Installed /usr/local/lib/python3.10/dist-packages/AutoROM/roms/tutankham.bin\n",
            "Installed /usr/local/lib/python3.10/dist-packages/AutoROM/roms/up_n_down.bin\n",
            "Installed /usr/local/lib/python3.10/dist-packages/AutoROM/roms/venture.bin\n",
            "Installed /usr/local/lib/python3.10/dist-packages/AutoROM/roms/video_checkers.bin\n",
            "Installed /usr/local/lib/python3.10/dist-packages/AutoROM/roms/video_chess.bin\n",
            "Installed /usr/local/lib/python3.10/dist-packages/AutoROM/roms/video_cube.bin\n",
            "Installed /usr/local/lib/python3.10/dist-packages/AutoROM/roms/video_pinball.bin\n",
            "Installed /usr/local/lib/python3.10/dist-packages/AutoROM/roms/warlords.bin\n",
            "Installed /usr/local/lib/python3.10/dist-packages/AutoROM/roms/wizard_of_wor.bin\n",
            "Installed /usr/local/lib/python3.10/dist-packages/AutoROM/roms/word_zapper.bin\n",
            "Installed /usr/local/lib/python3.10/dist-packages/AutoROM/roms/yars_revenge.bin\n",
            "Installed /usr/local/lib/python3.10/dist-packages/AutoROM/roms/zaxxon.bin\n",
            "Done!\n",
            "Collecting gymnasium[atari]==0.28.1\n",
            "  Downloading gymnasium-0.28.1-py3-none-any.whl (925 kB)\n",
            "\u001b[2K     \u001b[90m━━━━━━━━━━━━━━━━━━━━━━━━━━━━━━━━━━━━━━━━\u001b[0m \u001b[32m925.5/925.5 kB\u001b[0m \u001b[31m4.2 MB/s\u001b[0m eta \u001b[36m0:00:00\u001b[0m\n",
            "\u001b[?25hRequirement already satisfied: numpy>=1.21.0 in /usr/local/lib/python3.10/dist-packages (from gymnasium[atari]==0.28.1) (1.25.2)\n",
            "Collecting jax-jumpy>=1.0.0 (from gymnasium[atari]==0.28.1)\n",
            "  Downloading jax_jumpy-1.0.0-py3-none-any.whl (20 kB)\n",
            "Requirement already satisfied: cloudpickle>=1.2.0 in /usr/local/lib/python3.10/dist-packages (from gymnasium[atari]==0.28.1) (2.2.1)\n",
            "Requirement already satisfied: typing-extensions>=4.3.0 in /usr/local/lib/python3.10/dist-packages (from gymnasium[atari]==0.28.1) (4.11.0)\n",
            "Collecting farama-notifications>=0.0.1 (from gymnasium[atari]==0.28.1)\n",
            "  Downloading Farama_Notifications-0.0.4-py3-none-any.whl (2.5 kB)\n",
            "Collecting shimmy[atari]<1.0,>=0.1.0 (from gymnasium[atari]==0.28.1)\n",
            "  Downloading Shimmy-0.2.1-py3-none-any.whl (25 kB)\n",
            "Requirement already satisfied: ale-py~=0.8.1 in /usr/local/lib/python3.10/dist-packages (from shimmy[atari]<1.0,>=0.1.0->gymnasium[atari]==0.28.1) (0.8.1)\n",
            "Requirement already satisfied: importlib-resources in /usr/local/lib/python3.10/dist-packages (from ale-py~=0.8.1->shimmy[atari]<1.0,>=0.1.0->gymnasium[atari]==0.28.1) (6.4.0)\n",
            "Installing collected packages: farama-notifications, jax-jumpy, gymnasium, shimmy\n",
            "Successfully installed farama-notifications-0.0.4 gymnasium-0.28.1 jax-jumpy-1.0.0 shimmy-0.2.1\n",
            "--2024-05-29 19:52:18--  http://www.atarimania.com/roms/Roms.rar\n",
            "Resolving www.atarimania.com (www.atarimania.com)... 212.83.163.6\n",
            "Connecting to www.atarimania.com (www.atarimania.com)|212.83.163.6|:80... connected.\n",
            "HTTP request sent, awaiting response... 301 Moved Permanently\n",
            "Location: https://www.atarimania.com/roms/Roms.rar [following]\n",
            "--2024-05-29 19:52:18--  https://www.atarimania.com/roms/Roms.rar\n",
            "Connecting to www.atarimania.com (www.atarimania.com)|212.83.163.6|:443... connected.\n",
            "HTTP request sent, awaiting response... 200 OK\n",
            "Length: 19612325 (19M) [application/octet-stream]\n",
            "Saving to: ‘Roms.rar’\n",
            "\n",
            "Roms.rar            100%[===================>]  18.70M  8.80MB/s    in 2.1s    \n",
            "\n",
            "2024-05-29 19:52:21 (8.80 MB/s) - ‘Roms.rar’ saved [19612325/19612325]\n",
            "\n",
            "/usr/bin/python3: Error while finding module specification for 'atari_py.import_roms' (ModuleNotFoundError: No module named 'atari_py')\n",
            "Requirement already satisfied: gym in /usr/local/lib/python3.10/dist-packages (0.25.2)\n",
            "Collecting gym\n",
            "  Downloading gym-0.26.2.tar.gz (721 kB)\n",
            "\u001b[2K     \u001b[90m━━━━━━━━━━━━━━━━━━━━━━━━━━━━━━━━━━━━━━━━\u001b[0m \u001b[32m721.7/721.7 kB\u001b[0m \u001b[31m4.4 MB/s\u001b[0m eta \u001b[36m0:00:00\u001b[0m\n",
            "\u001b[?25h  Installing build dependencies ... \u001b[?25l\u001b[?25hdone\n",
            "  Getting requirements to build wheel ... \u001b[?25l\u001b[?25hdone\n",
            "  Preparing metadata (pyproject.toml) ... \u001b[?25l\u001b[?25hdone\n",
            "Requirement already satisfied: numpy>=1.18.0 in /usr/local/lib/python3.10/dist-packages (from gym) (1.25.2)\n",
            "Requirement already satisfied: cloudpickle>=1.2.0 in /usr/local/lib/python3.10/dist-packages (from gym) (2.2.1)\n",
            "Requirement already satisfied: gym-notices>=0.0.4 in /usr/local/lib/python3.10/dist-packages (from gym) (0.0.8)\n",
            "Building wheels for collected packages: gym\n",
            "  Building wheel for gym (pyproject.toml) ... \u001b[?25l\u001b[?25hdone\n",
            "  Created wheel for gym: filename=gym-0.26.2-py3-none-any.whl size=827621 sha256=24b2cede88ccf4c89348a440b885402e2c2e32b1bdebf8ba01fc5ae2142d20f6\n",
            "  Stored in directory: /root/.cache/pip/wheels/b9/22/6d/3e7b32d98451b4cd9d12417052affbeeeea012955d437da1da\n",
            "Successfully built gym\n",
            "Installing collected packages: gym\n",
            "  Attempting uninstall: gym\n",
            "    Found existing installation: gym 0.25.2\n",
            "    Uninstalling gym-0.25.2:\n",
            "      Successfully uninstalled gym-0.25.2\n",
            "\u001b[31mERROR: pip's dependency resolver does not currently take into account all the packages that are installed. This behaviour is the source of the following dependency conflicts.\n",
            "dopamine-rl 4.0.9 requires gym<=0.25.2, but you have gym 0.26.2 which is incompatible.\u001b[0m\u001b[31m\n",
            "\u001b[0mSuccessfully installed gym-0.26.2\n"
          ]
        }
      ]
    },
    {
      "cell_type": "markdown",
      "source": [
        "Установка библиотек, необходимые для работы с графикой и видео"
      ],
      "metadata": {
        "id": "LPHQKGs35kWm"
      }
    },
    {
      "cell_type": "code",
      "source": [
        "!apt-get install xvfb\n",
        "!apt-get install python3-opengl ffmpeg"
      ],
      "metadata": {
        "colab": {
          "base_uri": "https://localhost:8080/"
        },
        "id": "H7bN-u4PJrZH",
        "outputId": "44cbe365-a065-4b7a-d54e-71f4566ad6c8"
      },
      "execution_count": null,
      "outputs": [
        {
          "output_type": "stream",
          "name": "stdout",
          "text": [
            "Reading package lists... Done\n",
            "Building dependency tree... Done\n",
            "Reading state information... Done\n",
            "The following additional packages will be installed:\n",
            "  libfontenc1 libxfont2 libxkbfile1 x11-xkb-utils xfonts-base xfonts-encodings xfonts-utils\n",
            "  xserver-common\n",
            "The following NEW packages will be installed:\n",
            "  libfontenc1 libxfont2 libxkbfile1 x11-xkb-utils xfonts-base xfonts-encodings xfonts-utils\n",
            "  xserver-common xvfb\n",
            "0 upgraded, 9 newly installed, 0 to remove and 47 not upgraded.\n",
            "Need to get 7,813 kB of archives.\n",
            "After this operation, 11.9 MB of additional disk space will be used.\n",
            "Get:1 http://archive.ubuntu.com/ubuntu jammy/main amd64 libfontenc1 amd64 1:1.1.4-1build3 [14.7 kB]\n",
            "Get:2 http://archive.ubuntu.com/ubuntu jammy/main amd64 libxfont2 amd64 1:2.0.5-1build1 [94.5 kB]\n",
            "Get:3 http://archive.ubuntu.com/ubuntu jammy/main amd64 libxkbfile1 amd64 1:1.1.0-1build3 [71.8 kB]\n",
            "Get:4 http://archive.ubuntu.com/ubuntu jammy/main amd64 x11-xkb-utils amd64 7.7+5build4 [172 kB]\n",
            "Get:5 http://archive.ubuntu.com/ubuntu jammy/main amd64 xfonts-encodings all 1:1.0.5-0ubuntu2 [578 kB]\n",
            "Get:6 http://archive.ubuntu.com/ubuntu jammy/main amd64 xfonts-utils amd64 1:7.7+6build2 [94.6 kB]\n",
            "Get:7 http://archive.ubuntu.com/ubuntu jammy/main amd64 xfonts-base all 1:1.0.5 [5,896 kB]\n",
            "Get:8 http://archive.ubuntu.com/ubuntu jammy-updates/main amd64 xserver-common all 2:21.1.4-2ubuntu1.7~22.04.10 [28.5 kB]\n",
            "Get:9 http://archive.ubuntu.com/ubuntu jammy-updates/universe amd64 xvfb amd64 2:21.1.4-2ubuntu1.7~22.04.10 [863 kB]\n",
            "Fetched 7,813 kB in 0s (27.0 MB/s)\n",
            "Selecting previously unselected package libfontenc1:amd64.\n",
            "(Reading database ... 121918 files and directories currently installed.)\n",
            "Preparing to unpack .../0-libfontenc1_1%3a1.1.4-1build3_amd64.deb ...\n",
            "Unpacking libfontenc1:amd64 (1:1.1.4-1build3) ...\n",
            "Selecting previously unselected package libxfont2:amd64.\n",
            "Preparing to unpack .../1-libxfont2_1%3a2.0.5-1build1_amd64.deb ...\n",
            "Unpacking libxfont2:amd64 (1:2.0.5-1build1) ...\n",
            "Selecting previously unselected package libxkbfile1:amd64.\n",
            "Preparing to unpack .../2-libxkbfile1_1%3a1.1.0-1build3_amd64.deb ...\n",
            "Unpacking libxkbfile1:amd64 (1:1.1.0-1build3) ...\n",
            "Selecting previously unselected package x11-xkb-utils.\n",
            "Preparing to unpack .../3-x11-xkb-utils_7.7+5build4_amd64.deb ...\n",
            "Unpacking x11-xkb-utils (7.7+5build4) ...\n",
            "Selecting previously unselected package xfonts-encodings.\n",
            "Preparing to unpack .../4-xfonts-encodings_1%3a1.0.5-0ubuntu2_all.deb ...\n",
            "Unpacking xfonts-encodings (1:1.0.5-0ubuntu2) ...\n",
            "Selecting previously unselected package xfonts-utils.\n",
            "Preparing to unpack .../5-xfonts-utils_1%3a7.7+6build2_amd64.deb ...\n",
            "Unpacking xfonts-utils (1:7.7+6build2) ...\n",
            "Selecting previously unselected package xfonts-base.\n",
            "Preparing to unpack .../6-xfonts-base_1%3a1.0.5_all.deb ...\n",
            "Unpacking xfonts-base (1:1.0.5) ...\n",
            "Selecting previously unselected package xserver-common.\n",
            "Preparing to unpack .../7-xserver-common_2%3a21.1.4-2ubuntu1.7~22.04.10_all.deb ...\n",
            "Unpacking xserver-common (2:21.1.4-2ubuntu1.7~22.04.10) ...\n",
            "Selecting previously unselected package xvfb.\n",
            "Preparing to unpack .../8-xvfb_2%3a21.1.4-2ubuntu1.7~22.04.10_amd64.deb ...\n",
            "Unpacking xvfb (2:21.1.4-2ubuntu1.7~22.04.10) ...\n",
            "Setting up libfontenc1:amd64 (1:1.1.4-1build3) ...\n",
            "Setting up xfonts-encodings (1:1.0.5-0ubuntu2) ...\n",
            "Setting up libxkbfile1:amd64 (1:1.1.0-1build3) ...\n",
            "Setting up libxfont2:amd64 (1:2.0.5-1build1) ...\n",
            "Setting up x11-xkb-utils (7.7+5build4) ...\n",
            "Setting up xfonts-utils (1:7.7+6build2) ...\n",
            "Setting up xfonts-base (1:1.0.5) ...\n",
            "Setting up xserver-common (2:21.1.4-2ubuntu1.7~22.04.10) ...\n",
            "Setting up xvfb (2:21.1.4-2ubuntu1.7~22.04.10) ...\n",
            "Processing triggers for man-db (2.10.2-1) ...\n",
            "Processing triggers for fontconfig (2.13.1-4.2ubuntu5) ...\n",
            "Processing triggers for libc-bin (2.35-0ubuntu3.4) ...\n",
            "/sbin/ldconfig.real: /usr/local/lib/libtbbbind_2_0.so.3 is not a symbolic link\n",
            "\n",
            "/sbin/ldconfig.real: /usr/local/lib/libtbbmalloc.so.2 is not a symbolic link\n",
            "\n",
            "/sbin/ldconfig.real: /usr/local/lib/libtbbbind_2_5.so.3 is not a symbolic link\n",
            "\n",
            "/sbin/ldconfig.real: /usr/local/lib/libtbb.so.12 is not a symbolic link\n",
            "\n",
            "/sbin/ldconfig.real: /usr/local/lib/libtbbmalloc_proxy.so.2 is not a symbolic link\n",
            "\n",
            "/sbin/ldconfig.real: /usr/local/lib/libtbbbind.so.3 is not a symbolic link\n",
            "\n",
            "Reading package lists... Done\n",
            "Building dependency tree... Done\n",
            "Reading state information... Done\n",
            "ffmpeg is already the newest version (7:4.4.2-0ubuntu0.22.04.1).\n",
            "The following additional packages will be installed:\n",
            "  freeglut3 libglu1-mesa\n",
            "Suggested packages:\n",
            "  libgle3 python3-numpy\n",
            "The following NEW packages will be installed:\n",
            "  freeglut3 libglu1-mesa python3-opengl\n",
            "0 upgraded, 3 newly installed, 0 to remove and 47 not upgraded.\n",
            "Need to get 824 kB of archives.\n",
            "After this operation, 8,092 kB of additional disk space will be used.\n",
            "Get:1 http://archive.ubuntu.com/ubuntu jammy/universe amd64 freeglut3 amd64 2.8.1-6 [74.0 kB]\n",
            "Get:2 http://archive.ubuntu.com/ubuntu jammy/main amd64 libglu1-mesa amd64 9.0.2-1 [145 kB]\n",
            "Get:3 http://archive.ubuntu.com/ubuntu jammy/universe amd64 python3-opengl all 3.1.5+dfsg-1 [605 kB]\n",
            "Fetched 824 kB in 0s (5,191 kB/s)\n",
            "Selecting previously unselected package freeglut3:amd64.\n",
            "(Reading database ... 122481 files and directories currently installed.)\n",
            "Preparing to unpack .../freeglut3_2.8.1-6_amd64.deb ...\n",
            "Unpacking freeglut3:amd64 (2.8.1-6) ...\n",
            "Selecting previously unselected package libglu1-mesa:amd64.\n",
            "Preparing to unpack .../libglu1-mesa_9.0.2-1_amd64.deb ...\n",
            "Unpacking libglu1-mesa:amd64 (9.0.2-1) ...\n",
            "Selecting previously unselected package python3-opengl.\n",
            "Preparing to unpack .../python3-opengl_3.1.5+dfsg-1_all.deb ...\n",
            "Unpacking python3-opengl (3.1.5+dfsg-1) ...\n",
            "Setting up freeglut3:amd64 (2.8.1-6) ...\n",
            "Setting up libglu1-mesa:amd64 (9.0.2-1) ...\n",
            "Setting up python3-opengl (3.1.5+dfsg-1) ...\n",
            "Processing triggers for libc-bin (2.35-0ubuntu3.4) ...\n",
            "/sbin/ldconfig.real: /usr/local/lib/libtbbbind_2_0.so.3 is not a symbolic link\n",
            "\n",
            "/sbin/ldconfig.real: /usr/local/lib/libtbbmalloc.so.2 is not a symbolic link\n",
            "\n",
            "/sbin/ldconfig.real: /usr/local/lib/libtbbbind_2_5.so.3 is not a symbolic link\n",
            "\n",
            "/sbin/ldconfig.real: /usr/local/lib/libtbb.so.12 is not a symbolic link\n",
            "\n",
            "/sbin/ldconfig.real: /usr/local/lib/libtbbmalloc_proxy.so.2 is not a symbolic link\n",
            "\n",
            "/sbin/ldconfig.real: /usr/local/lib/libtbbbind.so.3 is not a symbolic link\n",
            "\n"
          ]
        }
      ]
    },
    {
      "cell_type": "markdown",
      "source": [
        "Создать папку с названием \"video\""
      ],
      "metadata": {
        "id": "Mqw6aIsI5ylF"
      }
    },
    {
      "cell_type": "code",
      "source": [
        "!mkdir -p video"
      ],
      "metadata": {
        "id": "boAtxuIZH9Rs"
      },
      "execution_count": null,
      "outputs": []
    },
    {
      "cell_type": "markdown",
      "source": [
        "## Импорт библиотек"
      ],
      "metadata": {
        "id": "DATDRON3E8Zx"
      }
    },
    {
      "cell_type": "code",
      "source": [
        "import gymnasium as gym\n",
        "from gymnasium import logger as gymlogger\n",
        "from gymnasium.wrappers.record_video import RecordVideo\n",
        "\n",
        "gymlogger.set_level(40) #error only\n",
        "import tensorflow as tf\n",
        "import numpy as np\n",
        "import random\n",
        "import matplotlib\n",
        "import matplotlib.pyplot as plt\n",
        "%matplotlib inline\n",
        "from pprint import pprint\n",
        "from tqdm import tqdm\n",
        "import math\n",
        "import uuid\n",
        "import glob\n",
        "import io\n",
        "import base64\n",
        "from IPython.display import HTML\n",
        "\n",
        "from IPython import display as ipythondisplay"
      ],
      "metadata": {
        "id": "d47ChwfODFYj"
      },
      "execution_count": null,
      "outputs": []
    },
    {
      "cell_type": "markdown",
      "source": [
        "## Дополнительные функции"
      ],
      "metadata": {
        "id": "QQ44OeykIAy_"
      }
    },
    {
      "cell_type": "markdown",
      "source": [
        "Функции для работы с видеозаписями, создает среду Gym с возможностью записи видео и выводит информацию о среде"
      ],
      "metadata": {
        "id": "vh_dLJNj6MZU"
      }
    },
    {
      "cell_type": "code",
      "source": [
        "def show_video(folder_name):\n",
        "  mp4list = glob.glob(f'{folder_name}/*.mp4')\n",
        "  if len(mp4list) > 0:\n",
        "    mp4 = mp4list[0]\n",
        "    video = io.open(mp4, 'r+b').read()\n",
        "    encoded = base64.b64encode(video)\n",
        "    ipythondisplay.display(HTML(data=''''''.format(encoded.decode('ascii'))))\n",
        "  else:\n",
        "    print(\"Could not find video\")\n",
        "\n",
        "\n",
        "def wrap_env(env, folder_name):\n",
        "  env = RecordVideo(env, folder_name, step_trigger = lambda episode_number: True)\n",
        "  return env\n",
        "\n",
        "def create_environment(name):\n",
        "    folder_name = f\"./video/{name}/{uuid.uuid4()}\"\n",
        "    env = wrap_env(gym.make(name, render_mode=\"rgb_array\"), folder_name)\n",
        "    spec = gym.spec(name)\n",
        "    print(f\"Action Space: {env.action_space}\")\n",
        "    print(f\"Observation Space: {env.observation_space}\")\n",
        "    print(f\"Max Episode Steps: {spec.max_episode_steps}\")\n",
        "    print(f\"Nondeterministic: {spec.nondeterministic}\")\n",
        "    print(f\"Reward Range: {env.reward_range}\")\n",
        "    print(f\"Reward Threshold: {spec.reward_threshold}\")\n",
        "    return env, folder_name"
      ],
      "metadata": {
        "id": "iRi3n7VWIAch"
      },
      "execution_count": null,
      "outputs": []
    },
    {
      "cell_type": "markdown",
      "source": [
        "## Создание агентов"
      ],
      "metadata": {
        "id": "R4AMpFJSE-CA"
      }
    },
    {
      "cell_type": "markdown",
      "source": [
        " Позволяет агенту взаимодействовать со средой CliffWalking-v0, выполнять действия, определенные политикой, и записывать видео"
      ],
      "metadata": {
        "id": "oWH77SIE6sQl"
      }
    },
    {
      "cell_type": "code",
      "execution_count": null,
      "metadata": {
        "id": "twIMIrOBCpie"
      },
      "outputs": [],
      "source": [
        "class PolicyIterationAgent:\n",
        "    '''\n",
        "    Класс, эмулирующий работу агента\n",
        "    '''\n",
        "    def __init__(self, env):\n",
        "        self.env = env\n",
        "        # Пространство состояний\n",
        "        self.observation_dim = 48\n",
        "        # Массив действий в соответствии с документацией\n",
        "        # https://www.gymlibrary.dev/environments/toy_text/frozen_lake/\n",
        "        self.actions_variants = np.array([0,1,2,3])\n",
        "        # Задание стратегии (политики)\n",
        "        # Карта 4х4 и 4 возможных действия\n",
        "        self.policy_probs = np.full((self.observation_dim, len(self.actions_variants)), 0.25)\n",
        "        # Начальные значения для v(s)\n",
        "        self.state_values = np.zeros(shape=(self.observation_dim))\n",
        "        # Начальные значения параметров\n",
        "        self.maxNumberOfIterations = 1000\n",
        "        self.theta=1e-6\n",
        "        self.gamma=0.99\n",
        "\n",
        "\n",
        "    def print_policy(self):\n",
        "        '''\n",
        "        Вывод матриц стратегии\n",
        "        '''\n",
        "        print('Стратегия:')\n",
        "        pprint(self.policy_probs)\n",
        "\n",
        "\n",
        "    def policy_evaluation(self):\n",
        "        '''\n",
        "        Оценивание стратегии\n",
        "        '''\n",
        "        # Предыдущее значение функции ценности\n",
        "        valueFunctionVector = self.state_values\n",
        "        for iterations in range(self.maxNumberOfIterations):\n",
        "            # Новое значение функции ценности\n",
        "            valueFunctionVectorNextIteration=np.zeros(shape=(self.observation_dim))\n",
        "            # Цикл по состояниям\n",
        "            for state in range(self.observation_dim):\n",
        "                # Вероятности действий\n",
        "                action_probabilities = self.policy_probs[state]\n",
        "                # Цикл по действиям\n",
        "                outerSum=0\n",
        "                for action, prob in enumerate(action_probabilities):\n",
        "                    innerSum=0\n",
        "                    # Цикл по вероятностям действий\n",
        "                    for probability, next_state, reward, isTerminalState in self.env.P[state][action]:\n",
        "                        innerSum=innerSum+probability*(reward+self.gamma*self.state_values[next_state])\n",
        "                    outerSum=outerSum+self.policy_probs[state][action]*innerSum\n",
        "                valueFunctionVectorNextIteration[state]=outerSum\n",
        "            if(np.max(np.abs(valueFunctionVectorNextIteration-valueFunctionVector))<self.theta):\n",
        "                # Проверка сходимости алгоритма\n",
        "                valueFunctionVector=valueFunctionVectorNextIteration\n",
        "                break\n",
        "            valueFunctionVector=valueFunctionVectorNextIteration\n",
        "        return valueFunctionVector\n",
        "\n",
        "\n",
        "    def policy_improvement(self):\n",
        "        '''\n",
        "        Улучшение стратегии\n",
        "        '''\n",
        "        qvaluesMatrix=np.zeros((self.observation_dim, len(self.actions_variants)))\n",
        "        improvedPolicy=np.zeros((self.observation_dim, len(self.actions_variants)))\n",
        "        # Цикл по состояниям\n",
        "        for state in range(self.observation_dim):\n",
        "            for action in range(len(self.actions_variants)):\n",
        "                for probability, next_state, reward, isTerminalState in self.env.P[state][action]:\n",
        "                    qvaluesMatrix[state,action]=qvaluesMatrix[state,action]+probability*(reward+self.gamma*self.state_values[next_state])\n",
        "\n",
        "            # Находим лучшие индексы\n",
        "            bestActionIndex=np.where(qvaluesMatrix[state,:]==np.max(qvaluesMatrix[state,:]))\n",
        "            # Обновление стратегии\n",
        "            improvedPolicy[state,bestActionIndex]=1/np.size(bestActionIndex)\n",
        "        return improvedPolicy\n",
        "\n",
        "\n",
        "    def policy_iteration(self, cnt):\n",
        "        '''\n",
        "        Основная реализация алгоритма\n",
        "        '''\n",
        "        policy_stable = False\n",
        "        for i in tqdm(range(1, cnt+1)):\n",
        "            self.state_values = self.policy_evaluation()\n",
        "            self.policy_probs = self.policy_improvement()\n",
        "        print(f'Алгоритм выполнился за {i} шагов.')\n",
        "\n",
        "\n",
        "def play_agent(agent):\n",
        "    env2, folder = create_environment('CliffWalking-v0')\n",
        "    state = env2.reset()[0]\n",
        "    done = False\n",
        "    while not done:\n",
        "        p = agent.policy_probs[state]\n",
        "        if isinstance(p, np.ndarray):\n",
        "            action = np.random.choice(len(agent.actions_variants), p=p)\n",
        "        else:\n",
        "            action = p\n",
        "        next_state, reward, terminated, truncated, _ = env2.step(action)\n",
        "\n",
        "        state = next_state\n",
        "        if terminated or truncated:\n",
        "            done = True\n",
        "    env2.close()\n",
        "    show_video(folder)"
      ]
    },
    {
      "cell_type": "markdown",
      "source": [
        "Установка виртуального дисплея"
      ],
      "metadata": {
        "id": "B1C-aMGD694I"
      }
    },
    {
      "cell_type": "code",
      "source": [
        "from pyvirtualdisplay import Display\n",
        "display = Display(visible=0, size=(1400, 900))\n",
        "display.start()"
      ],
      "metadata": {
        "colab": {
          "base_uri": "https://localhost:8080/"
        },
        "id": "CvALboKwH3eN",
        "outputId": "6f758480-d7ea-4930-ad01-d98801d5605a"
      },
      "execution_count": null,
      "outputs": [
        {
          "output_type": "execute_result",
          "data": {
            "text/plain": [
              "<pyvirtualdisplay.display.Display at 0x79d80c1ef850>"
            ]
          },
          "metadata": {},
          "execution_count": 8
        }
      ]
    },
    {
      "cell_type": "markdown",
      "source": [
        "## Среда обучения"
      ],
      "metadata": {
        "id": "NTAZ5eRUy5vq"
      }
    },
    {
      "cell_type": "markdown",
      "source": [
        "В качестве среды обучения с подкреплением был выбран Toy Text / Cliff Walking из библиотеки Gym."
      ],
      "metadata": {
        "id": "VHw_LuuuyPDq"
      }
    },
    {
      "cell_type": "markdown",
      "source": [
        "### Описание\n",
        "\n",
        "Плата представляет собой матрицу 4x12 с (с использованием индексации матрицы NumPy):\n",
        "\n",
        "[3, 0] как начало слева внизу\n",
        "\n",
        "[3, 11] как цель внизу справа\n",
        "\n",
        "[3, 1..10] в виде скалы внизу в центре.\n",
        "\n",
        "Если агент наступит на скалу, он вернется к началу. Эпизод заканчивается, когда агент достигает цели.\n",
        "\n",
        "### Действия\n",
        "Существует 4 дискретных детерминированных действия:\n",
        "\n",
        "0: двигаться вверх\n",
        "\n",
        "1: двигаться вправо\n",
        "\n",
        "2: двигаться вниз\n",
        "\n",
        "3: двигаться влево\n",
        "\n",
        "### Наблюдения\n",
        "Возможных состояний 3x12 + 1. На самом деле агент не может находиться ни у обрыва, ни у ворот (поскольку это приводит к концу эпизода). Остаются все позиции первых трех строк плюс нижняя левая ячейка. Наблюдение — это просто текущая позиция, закодированная как сглаженный индекс .\n",
        "\n",
        "### Награда\n",
        "Каждый временной шаг приносит -1 награду, а шаг в скалу - -100 награды."
      ],
      "metadata": {
        "id": "eRhKbNZFy3DS"
      }
    },
    {
      "cell_type": "markdown",
      "source": [
        "## Обучение агента"
      ],
      "metadata": {
        "id": "Xjnbf6F2FCjE"
      }
    },
    {
      "cell_type": "markdown",
      "source": [
        "Обучает агента, который должен научиться двигаться по сетке, избегая обрыва, с помощью алгоритма Policy Iteration"
      ],
      "metadata": {
        "id": "61zCI1Uu7XgB"
      }
    },
    {
      "cell_type": "code",
      "source": [
        "# Создание среды\n",
        "env = gym.make('CliffWalking-v0')\n",
        "env.reset()\n",
        "# Обучение агента\n",
        "agent = PolicyIterationAgent(env)\n",
        "agent.print_policy()\n",
        "agent.policy_iteration(1000)\n",
        "agent.print_policy()"
      ],
      "metadata": {
        "colab": {
          "base_uri": "https://localhost:8080/"
        },
        "id": "ZjH0LComDCD5",
        "outputId": "703cb041-ac8b-49a1-e001-8463fa18e8a0"
      },
      "execution_count": null,
      "outputs": [
        {
          "output_type": "stream",
          "name": "stdout",
          "text": [
            "Стратегия:\n",
            "array([[0.25, 0.25, 0.25, 0.25],\n",
            "       [0.25, 0.25, 0.25, 0.25],\n",
            "       [0.25, 0.25, 0.25, 0.25],\n",
            "       [0.25, 0.25, 0.25, 0.25],\n",
            "       [0.25, 0.25, 0.25, 0.25],\n",
            "       [0.25, 0.25, 0.25, 0.25],\n",
            "       [0.25, 0.25, 0.25, 0.25],\n",
            "       [0.25, 0.25, 0.25, 0.25],\n",
            "       [0.25, 0.25, 0.25, 0.25],\n",
            "       [0.25, 0.25, 0.25, 0.25],\n",
            "       [0.25, 0.25, 0.25, 0.25],\n",
            "       [0.25, 0.25, 0.25, 0.25],\n",
            "       [0.25, 0.25, 0.25, 0.25],\n",
            "       [0.25, 0.25, 0.25, 0.25],\n",
            "       [0.25, 0.25, 0.25, 0.25],\n",
            "       [0.25, 0.25, 0.25, 0.25],\n",
            "       [0.25, 0.25, 0.25, 0.25],\n",
            "       [0.25, 0.25, 0.25, 0.25],\n",
            "       [0.25, 0.25, 0.25, 0.25],\n",
            "       [0.25, 0.25, 0.25, 0.25],\n",
            "       [0.25, 0.25, 0.25, 0.25],\n",
            "       [0.25, 0.25, 0.25, 0.25],\n",
            "       [0.25, 0.25, 0.25, 0.25],\n",
            "       [0.25, 0.25, 0.25, 0.25],\n",
            "       [0.25, 0.25, 0.25, 0.25],\n",
            "       [0.25, 0.25, 0.25, 0.25],\n",
            "       [0.25, 0.25, 0.25, 0.25],\n",
            "       [0.25, 0.25, 0.25, 0.25],\n",
            "       [0.25, 0.25, 0.25, 0.25],\n",
            "       [0.25, 0.25, 0.25, 0.25],\n",
            "       [0.25, 0.25, 0.25, 0.25],\n",
            "       [0.25, 0.25, 0.25, 0.25],\n",
            "       [0.25, 0.25, 0.25, 0.25],\n",
            "       [0.25, 0.25, 0.25, 0.25],\n",
            "       [0.25, 0.25, 0.25, 0.25],\n",
            "       [0.25, 0.25, 0.25, 0.25],\n",
            "       [0.25, 0.25, 0.25, 0.25],\n",
            "       [0.25, 0.25, 0.25, 0.25],\n",
            "       [0.25, 0.25, 0.25, 0.25],\n",
            "       [0.25, 0.25, 0.25, 0.25],\n",
            "       [0.25, 0.25, 0.25, 0.25],\n",
            "       [0.25, 0.25, 0.25, 0.25],\n",
            "       [0.25, 0.25, 0.25, 0.25],\n",
            "       [0.25, 0.25, 0.25, 0.25],\n",
            "       [0.25, 0.25, 0.25, 0.25],\n",
            "       [0.25, 0.25, 0.25, 0.25],\n",
            "       [0.25, 0.25, 0.25, 0.25],\n",
            "       [0.25, 0.25, 0.25, 0.25]])\n"
          ]
        },
        {
          "output_type": "stream",
          "name": "stderr",
          "text": [
            "100%|██████████| 1000/1000 [00:05<00:00, 198.24it/s]"
          ]
        },
        {
          "output_type": "stream",
          "name": "stdout",
          "text": [
            "Алгоритм выполнился за 1000 шагов.\n",
            "Стратегия:\n",
            "array([[0.        , 0.5       , 0.5       , 0.        ],\n",
            "       [0.33333333, 0.33333333, 0.33333333, 0.        ],\n",
            "       [0.        , 0.        , 1.        , 0.        ],\n",
            "       [0.        , 0.        , 1.        , 0.        ],\n",
            "       [0.        , 0.        , 1.        , 0.        ],\n",
            "       [0.        , 0.        , 1.        , 0.        ],\n",
            "       [0.        , 0.        , 1.        , 0.        ],\n",
            "       [0.        , 0.        , 1.        , 0.        ],\n",
            "       [0.        , 0.        , 1.        , 0.        ],\n",
            "       [0.        , 0.        , 1.        , 0.        ],\n",
            "       [0.33333333, 0.        , 0.33333333, 0.33333333],\n",
            "       [0.        , 0.        , 0.5       , 0.5       ],\n",
            "       [0.        , 0.        , 1.        , 0.        ],\n",
            "       [0.        , 0.5       , 0.5       , 0.        ],\n",
            "       [0.        , 0.5       , 0.5       , 0.        ],\n",
            "       [0.        , 0.33333333, 0.33333333, 0.33333333],\n",
            "       [0.        , 0.33333333, 0.33333333, 0.33333333],\n",
            "       [0.        , 0.33333333, 0.33333333, 0.33333333],\n",
            "       [0.        , 0.33333333, 0.33333333, 0.33333333],\n",
            "       [0.        , 0.33333333, 0.33333333, 0.33333333],\n",
            "       [0.        , 0.33333333, 0.33333333, 0.33333333],\n",
            "       [0.        , 0.        , 0.5       , 0.5       ],\n",
            "       [0.        , 0.        , 0.5       , 0.5       ],\n",
            "       [0.        , 0.        , 1.        , 0.        ],\n",
            "       [0.        , 0.33333333, 0.33333333, 0.33333333],\n",
            "       [0.        , 0.5       , 0.        , 0.5       ],\n",
            "       [0.33333333, 0.33333333, 0.        , 0.33333333],\n",
            "       [0.33333333, 0.33333333, 0.        , 0.33333333],\n",
            "       [0.33333333, 0.33333333, 0.        , 0.33333333],\n",
            "       [0.33333333, 0.33333333, 0.        , 0.33333333],\n",
            "       [0.33333333, 0.33333333, 0.        , 0.33333333],\n",
            "       [0.33333333, 0.33333333, 0.        , 0.33333333],\n",
            "       [0.33333333, 0.33333333, 0.        , 0.33333333],\n",
            "       [0.33333333, 0.33333333, 0.        , 0.33333333],\n",
            "       [0.        , 0.5       , 0.        , 0.5       ],\n",
            "       [0.        , 0.33333333, 0.33333333, 0.33333333],\n",
            "       [0.33333333, 0.        , 0.33333333, 0.33333333],\n",
            "       [0.5       , 0.        , 0.        , 0.5       ],\n",
            "       [1.        , 0.        , 0.        , 0.        ],\n",
            "       [1.        , 0.        , 0.        , 0.        ],\n",
            "       [1.        , 0.        , 0.        , 0.        ],\n",
            "       [1.        , 0.        , 0.        , 0.        ],\n",
            "       [1.        , 0.        , 0.        , 0.        ],\n",
            "       [1.        , 0.        , 0.        , 0.        ],\n",
            "       [1.        , 0.        , 0.        , 0.        ],\n",
            "       [1.        , 0.        , 0.        , 0.        ],\n",
            "       [0.5       , 0.5       , 0.        , 0.        ],\n",
            "       [0.33333333, 0.33333333, 0.33333333, 0.        ]])\n"
          ]
        },
        {
          "output_type": "stream",
          "name": "stderr",
          "text": [
            "\n"
          ]
        }
      ]
    },
    {
      "cell_type": "markdown",
      "source": [
        "Запуск обученного агента в среде CliffWalking-v0, демонстрируя его способность успешно пройти по сетке, избегая обрыва,  и сохраняет видеозапись его действий"
      ],
      "metadata": {
        "id": "fvvlrAD77kFd"
      }
    },
    {
      "cell_type": "code",
      "source": [
        "play_agent(agent)"
      ],
      "metadata": {
        "colab": {
          "base_uri": "https://localhost:8080/",
          "height": 218
        },
        "id": "ktvIPdRWLiuo",
        "outputId": "58d4f25c-bfa5-4370-d766-5537e5dda984"
      },
      "execution_count": null,
      "outputs": [
        {
          "output_type": "stream",
          "name": "stdout",
          "text": [
            "Action Space: Discrete(4)\n",
            "Observation Space: Discrete(48)\n",
            "Max Episode Steps: None\n",
            "Nondeterministic: False\n",
            "Reward Range: (-inf, inf)\n",
            "Reward Threshold: None\n",
            "Moviepy - Building video /content/video/CliffWalking-v0/5c92195c-d99c-492d-9228-32d8403ca768/rl-video-step-0.mp4.\n",
            "Moviepy - Writing video /content/video/CliffWalking-v0/5c92195c-d99c-492d-9228-32d8403ca768/rl-video-step-0.mp4\n",
            "\n"
          ]
        },
        {
          "output_type": "stream",
          "name": "stderr",
          "text": []
        },
        {
          "output_type": "stream",
          "name": "stdout",
          "text": [
            "Moviepy - Done !\n",
            "Moviepy - video ready /content/video/CliffWalking-v0/5c92195c-d99c-492d-9228-32d8403ca768/rl-video-step-0.mp4\n"
          ]
        },
        {
          "output_type": "display_data",
          "data": {
            "text/plain": [
              "<IPython.core.display.HTML object>"
            ],
            "text/html": []
          },
          "metadata": {}
        }
      ]
    },
    {
      "cell_type": "markdown",
      "source": [
        "## Вывод\n",
        "\n",
        "В ходе выполнения лабораторной работы я ознакомился с алгоритмом итерации политик, который является одним из ключевых методов обучения с подкреплением. Алгоритм  работает за счет поочередного оценивания и улучшения политики агента.\n",
        "\n",
        "Оценивание политики: Алгоритм вычисляет значения для каждого состояния в среде, основываясь на текущей политике агента.\n",
        "Улучшение политики: Используя полученные значения, алгоритм обновляет политику агента, выбирая действия, которые максимизируют ожидаемое вознаграждение.\n",
        "Этот процесс повторяется до тех пор, пока политика не станет оптимальной, то есть агент будет выбирать действия, которые максимально повышают его шансы на получение максимальной награды.\n",
        "\n",
        "Код, который я анализировал,  демонстрирует применение этого алгоритма к задаче CliffWalking. В этой задаче агент должен найти путь через сетку, избегая обрыва, который приводит к потере награды. Код успешно обучил агента решать эту задачу, используя алгоритм итерации политик."
      ],
      "metadata": {
        "id": "IxhabXN-eQ_k"
      }
    }
  ]
}